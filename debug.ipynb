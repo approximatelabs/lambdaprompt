{
 "cells": [
  {
   "cell_type": "code",
   "execution_count": 1,
   "metadata": {},
   "outputs": [],
   "source": [
    "from lambdaprompt.gpt3 import GPT3Prompt, GPT3Edit, AsyncGPT3Edit, AsyncGPT3Prompt"
   ]
  },
  {
   "cell_type": "code",
   "execution_count": 2,
   "metadata": {},
   "outputs": [
    {
     "data": {
      "text/plain": [
       "' 8 of the apples.\\n\\nSally now has 4 apples.'"
      ]
     },
     "execution_count": 2,
     "metadata": {},
     "output_type": "execute_result"
    }
   ],
   "source": [
    "first = GPT3Prompt(\"Sally had {{ number }} of {{ thing }}. Sally sold \")\n",
    "first(number=12, thing=\"apples\")"
   ]
  },
  {
   "cell_type": "code",
   "execution_count": 3,
   "metadata": {},
   "outputs": [
    {
     "data": {
      "text/plain": [
       "'\\n\\nXi Jinping is the current President of China.'"
      ]
     },
     "execution_count": 3,
     "metadata": {},
     "output_type": "execute_result"
    }
   ],
   "source": [
    "testing = AsyncGPT3Prompt(\"Who is the president of {{ country }}?\")\n",
    "await testing(\"China\")"
   ]
  },
  {
   "cell_type": "code",
   "execution_count": 4,
   "metadata": {},
   "outputs": [
    {
     "data": {
      "text/plain": [
       "'Hi My Name Is John\\n'"
      ]
     },
     "execution_count": 4,
     "metadata": {},
     "output_type": "execute_result"
    }
   ],
   "source": [
    "another = GPT3Edit(\"{{instruction}}\")\n",
    "another(instruction=\"capitalize all the words\", input=\"hi my name is john\")"
   ]
  },
  {
   "cell_type": "code",
   "execution_count": 5,
   "metadata": {},
   "outputs": [
    {
     "data": {
      "text/plain": [
       "'Sally ate a lot of food.\\nShe was a cowgirl.\\n'"
      ]
     },
     "execution_count": 5,
     "metadata": {},
     "output_type": "execute_result"
    }
   ],
   "source": [
    "wow = AsyncGPT3Edit(\"Turn this into a {{ joke_style }} joke\")\n",
    "await wow(joke_style=\"american western\", input=\"Sally ate a lot of food\")"
   ]
  }
 ],
 "metadata": {
  "kernelspec": {
   "display_name": "lambdaprompt",
   "language": "python",
   "name": "python3"
  },
  "language_info": {
   "codemirror_mode": {
    "name": "ipython",
    "version": 3
   },
   "file_extension": ".py",
   "mimetype": "text/x-python",
   "name": "python",
   "nbconvert_exporter": "python",
   "pygments_lexer": "ipython3",
   "version": "3.7.15"
  },
  "orig_nbformat": 4,
  "vscode": {
   "interpreter": {
    "hash": "6570ba6965ccc0aa7b0fcf03e9ee34e6755a1d0f9327a96fa3d7a9fed41d197a"
   }
  }
 },
 "nbformat": 4,
 "nbformat_minor": 2
}
